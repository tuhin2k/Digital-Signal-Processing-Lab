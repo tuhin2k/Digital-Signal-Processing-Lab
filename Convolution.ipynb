{
  "nbformat": 4,
  "nbformat_minor": 0,
  "metadata": {
    "colab": {
      "name": "Untitled0.ipynb",
      "provenance": [],
      "collapsed_sections": []
    },
    "kernelspec": {
      "name": "python3",
      "display_name": "Python 3"
    }
  },
  "cells": [
    {
      "cell_type": "code",
      "metadata": {
        "id": "eBtEYixxs-ZT",
        "colab_type": "code",
        "colab": {
          "base_uri": "https://localhost:8080/",
          "height": 51
        },
        "outputId": "24d0d6f1-5513-404b-82b6-ba47274b3817"
      },
      "source": [
        "import matplotlib.pyplot as plt\n",
        "import numpy as np\n",
        "\n",
        "x_n=[1,2,3,1]\n",
        "h_n=[1,2,1,-1]\n",
        "\n",
        "xsize=len(x_n)\n",
        "hsize=len(h_n)\n",
        "def finalsignal(x_n,h_n) :\n",
        "  y_n=[]\n",
        "\n",
        "\n",
        "  for n in range(0,xsize+hsize-1):\n",
        "    sum=0\n",
        "    for k in range(0,xsize):\n",
        "      \n",
        "      \n",
        "      if n-k>=0 and n-k<len(h_n):\n",
        "        sum=sum+x_n[k]*h_n[n-k]\n",
        "\n",
        "      \n",
        "    y_n.append(sum)\n",
        "  return y_n\n",
        "  \n",
        "print(finalsignal(x_n,h_n))\n",
        "\n",
        "np.convolve(x_n,h_n)"
      ],
      "execution_count": 46,
      "outputs": [
        {
          "output_type": "stream",
          "text": [
            "[1, 4, 8, 8, 3, -2, -1]\n"
          ],
          "name": "stdout"
        },
        {
          "output_type": "execute_result",
          "data": {
            "text/plain": [
              "array([ 1,  4,  8,  8,  3, -2, -1])"
            ]
          },
          "metadata": {
            "tags": []
          },
          "execution_count": 46
        }
      ]
    }
  ]
}