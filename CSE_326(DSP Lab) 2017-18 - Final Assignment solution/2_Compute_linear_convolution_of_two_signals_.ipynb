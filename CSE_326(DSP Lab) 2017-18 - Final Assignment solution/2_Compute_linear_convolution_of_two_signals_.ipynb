{
  "nbformat": 4,
  "nbformat_minor": 0,
  "metadata": {
    "colab": {
      "name": "2.Compute linear convolution of two signals..ipynb",
      "provenance": [],
      "collapsed_sections": []
    },
    "kernelspec": {
      "name": "python3",
      "display_name": "Python 3"
    },
    "language_info": {
      "name": "python"
    }
  },
  "cells": [
    {
      "cell_type": "code",
      "metadata": {
        "colab": {
          "base_uri": "https://localhost:8080/"
        },
        "id": "jD_fCwO8MgwF",
        "outputId": "035fb108-6509-4734-885c-dd04cd712a78"
      },
      "source": [
        "import matplotlib.pyplot as plt\n",
        "import numpy as np\n",
        "from math import pi\n",
        "\n",
        "x_n=[1,2,3,1]\n",
        "h_n=[1,2,1,-1]\n",
        "\n",
        "xsize=len(x_n)\n",
        "hsize=len(h_n)\n",
        "def finalsignal(x_n,h_n) :\n",
        "  y_n=[]\n",
        "\n",
        "  for n in range(0,xsize+hsize-1):\n",
        "    sum=0\n",
        "    for k in range(0,xsize):    \n",
        "      if n-k>=0 and n-k<len(h_n):\n",
        "        sum=sum+x_n[k]*h_n[n-k]\n",
        "\n",
        "    y_n.append(sum)\n",
        "  return y_n\n",
        "  \n",
        "print(\"This is the result got from our computation and implementation: \",finalsignal(x_n,h_n))\n",
        "\n",
        "li=[]\n",
        "li=list(np.convolve(x_n,h_n))\n",
        "print(\"This is the result using python convolve library function: \",li)"
      ],
      "execution_count": 6,
      "outputs": [
        {
          "output_type": "stream",
          "name": "stdout",
          "text": [
            "This is the result got from our computation and implementation:  [1, 4, 8, 8, 3, -2, -1]\n",
            "This is the result using python convolve library function:  [1, 4, 8, 8, 3, -2, -1]\n"
          ]
        }
      ]
    }
  ]
}